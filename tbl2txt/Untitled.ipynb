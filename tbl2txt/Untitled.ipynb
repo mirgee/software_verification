{
 "cells": [
  {
   "cell_type": "code",
   "execution_count": 1,
   "metadata": {
    "collapsed": false
   },
   "outputs": [
    {
     "name": "stdout",
     "output_type": "stream",
     "text": [
      "\n",
      "Prum & Ytong & 50 cm & silikónová & ano \\\\ \n",
      "Sherlock & Betong & 60 cm & akrylátová & ne \\\\ \n",
      "SAPELI & Ytong & 70 cm & silikónová & ano \\\\ \n",
      "Prum & Ytong & 60 cm & silikónová & ne \\\\ \n",
      "Sherlock & Betong & 70 cm & silikónová & ano \\\\ \n",
      "SAPELI & Ytong & 50 cm & akrylátová & ano \\\\ \n",
      "Prum & Betong & 50 cm & silikónová & ano \\\\ \n",
      "Sherlock & Ytong & 60 cm & silikónová & ano \\\\ \n",
      "SAPELI & Ytong & 70 cm & akrylátová & ne \\\\ \n",
      "Prum & Ytong & 70 cm & silikónová & ne \\\\ \n",
      "Sherlock & Ytong & 50 cm & akrylátová & ano \\\\ \n",
      "SAPELI & Betong & 60 cm & silikónová & ano \\\\ \n",
      "Prum & Betong & 70 cm & akrylátová & ano \\\\ \n",
      "Sherlock & Ytong & 50 cm & silikónová & ne \\\\ \n",
      "SAPELI & Ytong & 60 cm & silikónová & ano \\\\ \n",
      "Prum & Ytong & 60 cm & akrylátová & ano \\\\ \n",
      "Sherlock & Ytong & 70 cm & silikónová & ano \\\\ \n",
      "SAPELI & Betong & 50 cm & silikónová & ne \\\\ \n",
      "\n"
     ]
    }
   ],
   "source": [
    "str = \\\n",
    "\"\"\"\n",
    "0000000\n",
    "1111110\n",
    "2222220\n",
    "0012120\n",
    "1120200\n",
    "2201010\n",
    "0102211\n",
    "1210021\n",
    "2021101\n",
    "0220111\n",
    "1001221\n",
    "2112001\n",
    "0121022\n",
    "1202102\n",
    "2010212\n",
    "0211202\n",
    "1022012\n",
    "2100122\n",
    "\"\"\"\n",
    "\n",
    "ret = \"\"\n",
    "\n",
    "levels1 = [\n",
    "\t[\"Prum\", \"Sherlock\", \"SAPELI\"],\n",
    "\t[\"Ytong\", \"Betong\", \"Ytong\"],\n",
    "\t[\"50 cm\", \"60 cm\", \"70 cm\"],\n",
    "\t[\"silikónová\", \"akrylátová\", \"silikónová\"],\n",
    "\t[\"ano\", \"ne\", \"ano\"]\n",
    "]\n",
    "\n",
    "for line in iter(str.splitlines()):\n",
    "\tfor i, char in enumerate(line):\n",
    "\t\tif i < len(levels1):\n",
    "\t\t\tret += levels1[i][int(char)]\n",
    "\t\t\tret += \" & \" if i < len(levels1) - 1 else \" \\\\\\\\ \"\n",
    "\tret += \"\\n\"\n",
    "\n",
    "print(ret)\n"
   ]
  },
  {
   "cell_type": "code",
   "execution_count": 3,
   "metadata": {
    "collapsed": false
   },
   "outputs": [
    {
     "name": "stdout",
     "output_type": "stream",
     "text": [
      "CZ & muž & student/ka & svobodbný/á & venkov & garsonka \\\\ \n",
      "CZ & žena & důchodce/kyně & svobodbný/á & město & chata \\\\ \n",
      "CZ & muž & technik & rozvedený/á & venkov & kolej \\\\ \n",
      "CZ & muž & technik & rozvedený/á & venkov & garsonka \\\\ \n",
      "CZ & žena & student/ka & svobodný/á & město & chata \\\\ \n",
      "UK & muž & technik & svobodbný/á & venkov & chata \\\\ \n",
      "UK & žena & technik & rozvedený/á & město & garsonka \\\\ \n",
      "UK & muž & student/ka & rozvedený/á & venkov & chata \\\\ \n",
      "UK & muž & student/ka & svobodný/á & město & kolej \\\\ \n",
      "UK & žena & důchodce/kyně & svobodbný/á & venkov & garsonka \\\\ \n",
      "US & muž & student/ka & rozvedený/á & město & garsonka \\\\ \n",
      "US & žena & student/ka & rozvedený/á & venkov & chata \\\\ \n",
      "US & muž & důchodce/kyně & svobodný/á & venkov & garsonka \\\\ \n",
      "US & muž & technik & svobodbný/á & město & chata \\\\ \n",
      "US & žena & technik & svobodbný/á & venkov & kolej \\\\ \n",
      "CZ & muž & důchodce/kyně & rozvedený/á & město & kolej \\\\ \n",
      "CZ & žena & technik & svobodný/á & venkov & garsonka \\\\ \n",
      "CZ & muž & technik & svobodbný/á & město & chata \\\\ \n",
      "CZ & muž & student/ka & svobodbný/á & venkov & garsonka \\\\ \n",
      "CZ & žena & student/ka & rozvedený/á & venkov & chata \\\\ \n",
      "UK & muž & technik & svobodný/á & venkov & chata \\\\ \n",
      "UK & žena & student/ka & svobodbný/á & venkov & kolej \\\\ \n",
      "UK & muž & student/ka & svobodbný/á & město & garsonka \\\\ \n",
      "UK & muž & důchodce/kyně & rozvedený/á & venkov & chata \\\\ \n",
      "UK & žena & technik & rozvedený/á & město & garsonka \\\\ \n",
      "\n"
     ]
    }
   ],
   "source": [
    "squares = [[(0, 2, 4, 1, 3), (4, 1, 3, 0, 2), (3, 0, 2, 4, 1), (2, 4, 1, 3, 0), (1, 3, 0, 2, 4)],\n",
    "[(0, 3, 1, 4, 2), (3, 1, 4, 2, 0), (1, 4, 2, 0, 3), (4, 2, 0, 3, 1), (2, 0, 3, 1, 4)],\n",
    "[(0, 4, 3, 2, 1), (2, 1, 0, 4, 3), (4, 3, 2, 1, 0), (1, 0, 4, 3, 2), (3, 2, 1, 0, 4)],\n",
    "[(0, 1, 2, 3, 4), (4, 0, 1, 2, 3), (3, 4, 0, 1, 2), (2, 3, 4, 0, 1), (1, 2, 3, 4, 0)]]\n",
    "\n",
    "levels2 = [\n",
    "\t[\"CZ\", \"UK\", \"US\", \"CZ\", \"UK\"],\n",
    "\t[\"muž\", \"žena\", \"muž\", \"muž\", \"žena\"],\n",
    "\t[\"student/ka\", \"technik\", \"důchodce/kyně\", \"student/ka\", \"technik\"],\n",
    "\t[\"svobodbný/á\", \"rozvedený/á\", \"svobodný/á\", \"svobodbný/á\", \"rozvedený/á\"],\n",
    "\t[\"venkov\", \"město\", \"venkov\", \"venkov\", \"město\"],\n",
    "\t[\"garsonka\", \"chata\", \"kolej\", \"garsonka\", \"chata\"]\n",
    "]\n",
    "\n",
    "ret = \"\"\n",
    "\n",
    "for row in range(len(levels2)-1):\n",
    "\tfor col in range(len(levels2)-1):\n",
    "\t\tret += levels2[0][row] + \" & \"\n",
    "\t\tret += levels2[1][col] + \" & \"\n",
    "\t\tfor i, square in enumerate(squares[:len(levels2)-2]):\n",
    "\t\t\tret += levels2[i+2][square[row][col]]\n",
    "\t\t\tret += \" & \" if i < len(levels2) - 3 else \" \\\\\\\\ \\n\"\n",
    "\n",
    "print(ret)"
   ]
  },
  {
   "cell_type": "code",
   "execution_count": 11,
   "metadata": {
    "collapsed": true
   },
   "outputs": [
    {
     "ename": "ModuleNotFoundError",
     "evalue": "No module named 'pairs_storage'",
     "output_type": "error",
     "traceback": [
      "\u001b[0;31m---------------------------------------------------------------------------\u001b[0m",
      "\u001b[0;31mModuleNotFoundError\u001b[0m                       Traceback (most recent call last)",
      "\u001b[0;32m<ipython-input-11-3c8b83638a70>\u001b[0m in \u001b[0;36m<module>\u001b[0;34m()\u001b[0m\n\u001b[0;32m----> 1\u001b[0;31m \u001b[0;32mimport\u001b[0m \u001b[0mmetacomm\u001b[0m\u001b[0;34m.\u001b[0m\u001b[0mcombinatorics\u001b[0m\u001b[0;34m.\u001b[0m\u001b[0mall_pairs2\u001b[0m\u001b[0;34m\u001b[0m\u001b[0m\n\u001b[0m",
      "\u001b[0;32m/home/miroslav/anaconda3/lib/python3.6/site-packages/metacomm/combinatorics/all_pairs2.py\u001b[0m in \u001b[0;36m<module>\u001b[0;34m()\u001b[0m\n\u001b[0;32m----> 1\u001b[0;31m \u001b[0;32mimport\u001b[0m \u001b[0mpairs_storage\u001b[0m\u001b[0;34m\u001b[0m\u001b[0m\n\u001b[0m\u001b[1;32m      2\u001b[0m \u001b[0;32mfrom\u001b[0m \u001b[0mcombinatorics\u001b[0m \u001b[0;32mimport\u001b[0m \u001b[0mxuniqueCombinations\u001b[0m\u001b[0;34m\u001b[0m\u001b[0m\n\u001b[1;32m      3\u001b[0m \u001b[0;34m\u001b[0m\u001b[0m\n\u001b[1;32m      4\u001b[0m \u001b[0;32mclass\u001b[0m \u001b[0mitem\u001b[0m\u001b[0;34m:\u001b[0m\u001b[0;34m\u001b[0m\u001b[0m\n\u001b[1;32m      5\u001b[0m     \u001b[0;32mdef\u001b[0m \u001b[0m__init__\u001b[0m\u001b[0;34m(\u001b[0m\u001b[0mself\u001b[0m\u001b[0;34m,\u001b[0m \u001b[0mid\u001b[0m\u001b[0;34m,\u001b[0m \u001b[0mvalue\u001b[0m\u001b[0;34m)\u001b[0m\u001b[0;34m:\u001b[0m\u001b[0;34m\u001b[0m\u001b[0m\n",
      "\u001b[0;31mModuleNotFoundError\u001b[0m: No module named 'pairs_storage'"
     ]
    }
   ],
   "source": []
  },
  {
   "cell_type": "code",
   "execution_count": null,
   "metadata": {
    "collapsed": true
   },
   "outputs": [],
   "source": []
  }
 ],
 "metadata": {
  "kernelspec": {
   "display_name": "Python 2",
   "language": "python",
   "name": "python2"
  },
  "language_info": {
   "codemirror_mode": {
    "name": "ipython",
    "version": 3
   },
   "file_extension": ".py",
   "mimetype": "text/x-python",
   "name": "python",
   "nbconvert_exporter": "python",
   "pygments_lexer": "ipython3",
   "version": "3.6.0"
  }
 },
 "nbformat": 4,
 "nbformat_minor": 2
}
